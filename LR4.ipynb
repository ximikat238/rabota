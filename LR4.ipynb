{
 "cells": [
  {
   "cell_type": "markdown",
   "metadata": {},
   "source": [
    "Домашнее задание к лекции \"Визуализация данных\"\n",
    "Вам необходимо провести базовый EDA выбранного набора данных."
   ]
  },
  {
   "cell_type": "code",
   "execution_count": null,
   "metadata": {},
   "outputs": [],
   "source": [
    "import matplotlib.pyplot as plt\n",
    "import pandas as pd\n",
    "\n",
    "pd.options.mode.chained_assignment = None\n",
    "pd.set_option('display.max_columns', 30)\n",
    "\n",
    "pd.set_option('display.width', 1000)\n",
    "google_play = pd.read_csv('googleplaystore.csv', encoding='latin-1')\n",
    "\n",
    "\n",
    "bar_graph_plot = plt.figure(figsize=(15, 8))\n",
    "bar_graph = bar_graph_plot.add_subplot()\n",
    "bar_graph.set_xlabel('название приложения')\n",
    "bar_graph.set_ylabel('рейтинг')\n",
    "bar_graph.set_title('топ приложения google play')\n",
    "best_rating = google_play.sort_values('Rating', ascending=False).sort_values('Installs', ascending=False).head(7)\n",
    "labels = list(best_rating['App'])[1:]\n",
    "labels_rating = list(best_rating['Rating'])[1:]\n",
    "bar_graph.bar(labels, labels_rating)\n",
    "print('Первый график показывает, что самым популярным приложением в google play является', labels[0])\n",
    "\n",
    "pie_graph_plot = plt.figure(figsize=(15, 8))\n",
    "pie_graph = pie_graph_plot.add_subplot()\n",
    "pie_graph.set_title('самые популярные категории приложений')\n",
    "popular_categories = dict(google_play.value_counts('Category').head(8))\n",
    "pie_graph.pie(list(popular_categories.values()), labels=list(popular_categories.keys()), autopct='%1.1f%%')\n",
    "print('Второй график показывает, что самыми популярными категориями являются Family, Game и Tools')\n",
    "\n",
    "\n",
    "pie_graph_content_rating_plot = plt.figure(figsize=(15, 8))\n",
    "pie_graph_content_rating = pie_graph_content_rating_plot.add_subplot()\n",
    "pie_graph_content_rating.set_title('самые популярные возрастные ограничения приложений')\n",
    "popular_categories = dict(google_play.value_counts('Content Rating').head(4))\n",
    "pie_graph_content_rating.pie(list(popular_categories.values()), labels=list(popular_categories.keys()),\n",
    "                             autopct='%1.1f%%')\n",
    "print('Третий график показывает, что самыми популярными возрастными ограничениями являются Everyone и Teen')\n",
    "\n",
    "\n",
    "\n",
    "barh_graph_plot = plt.figure(figsize=(15, 8))\n",
    "barh_graph = barh_graph_plot.add_subplot()\n",
    "barh_graph.set_xlabel('количество приложений')\n",
    "barh_graph.set_ylabel('тип приложения(бесплатное/платное)')\n",
    "barh_graph.set_title('количество платных и бесплатных популярных приложений в google play')\n",
    "free_paid = dict(google_play.value_counts('Type'))\n",
    "barh_graph.barh(list(free_paid.keys())[:-1], list(free_paid.values())[:-1])\n",
    "\n",
    "print('Четверный график показывает, что популярных бесплатных приложений гораздо больше, чем популярных платных')\n",
    "\n",
    "plt.show()\n"
   ]
  }
 ],
 "metadata": {
  "kernelspec": {
   "display_name": "Python 3",
   "language": "python",
   "name": "python3"
  },
  "language_info": {
   "codemirror_mode": {
    "name": "ipython",
    "version": 3
   },
   "file_extension": ".py",
   "mimetype": "text/x-python",
   "name": "python",
   "nbconvert_exporter": "python",
   "pygments_lexer": "ipython3",
   "version": "3.8.5"
  }
 },
 "nbformat": 4,
 "nbformat_minor": 4
}
